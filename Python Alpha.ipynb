{
 "cells": [
  {
   "cell_type": "code",
   "execution_count": 1,
   "id": "39579a42",
   "metadata": {},
   "outputs": [
    {
     "data": {
      "text/plain": [
       "[1, 2, 3, 'a', 'b', 'c']"
      ]
     },
     "execution_count": 1,
     "metadata": {},
     "output_type": "execute_result"
    }
   ],
   "source": [
    "list1 = [1,2,3]\n",
    "list2 = ['a','b','c']\n",
    "list3 = list1 + list2\n",
    "list3"
   ]
  },
  {
   "cell_type": "code",
   "execution_count": 1,
   "id": "b6fbff1a",
   "metadata": {},
   "outputs": [
    {
     "data": {
      "text/plain": [
       "{'one': 1, 'two': 2, 'three': 3}"
      ]
     },
     "execution_count": 1,
     "metadata": {},
     "output_type": "execute_result"
    }
   ],
   "source": [
    "#Dictionary with values\n",
    "\n",
    "my_dict = {\"one\":1, \"two\":2, \"three\":3}\n",
    "my_dict"
   ]
  },
  {
   "cell_type": "code",
   "execution_count": 4,
   "id": "c85a3d02",
   "metadata": {},
   "outputs": [
    {
     "data": {
      "text/plain": [
       "dict_keys(['Name', 'Address', 'Zip'])"
      ]
     },
     "execution_count": 4,
     "metadata": {},
     "output_type": "execute_result"
    }
   ],
   "source": [
    "my_dict = {\"Name\":\"Ali\", \"Address\":\"Islamabad\", \"Zip\":64000}\n",
    "my_dict.keys()"
   ]
  },
  {
   "cell_type": "code",
   "execution_count": 14,
   "id": "382760da",
   "metadata": {},
   "outputs": [
    {
     "name": "stdout",
     "output_type": "stream",
     "text": [
      "Hellow World!\n"
     ]
    }
   ],
   "source": [
    "#Conditional Statements\n",
    "\n",
    "if 8 > 5:\n",
    "    print ('Hellow World!')\n",
    "else:\n",
    "    print('Bye')"
   ]
  },
  {
   "cell_type": "code",
   "execution_count": 13,
   "id": "8c23ebdb",
   "metadata": {},
   "outputs": [
    {
     "name": "stdout",
     "output_type": "stream",
     "text": [
      "Bye!\n"
     ]
    }
   ],
   "source": [
    "var1 = 1\n",
    "var2 = 3\n",
    "if var1 > var2:\n",
    "    print('Hello World!')\n",
    "else:\n",
    "    print('Bye!')"
   ]
  },
  {
   "cell_type": "code",
   "execution_count": 20,
   "id": "b208bcf9",
   "metadata": {},
   "outputs": [
    {
     "name": "stdout",
     "output_type": "stream",
     "text": [
      "Welcome! How you doing today?\n"
     ]
    }
   ],
   "source": [
    "val = 15\n",
    "if val < 10:\n",
    "    print('Hello World!')\n",
    "elif 10 <= val <= 20:\n",
    "    print('Welcome! How you doing today?')\n",
    "else:\n",
    "    print('Bye!')\n",
    "    "
   ]
  },
  {
   "cell_type": "code",
   "execution_count": 21,
   "id": "73efbefe",
   "metadata": {},
   "outputs": [
    {
     "name": "stdout",
     "output_type": "stream",
     "text": [
      "Hey\n"
     ]
    }
   ],
   "source": [
    "x = 10\n",
    "y = 20\n",
    "\n",
    "if x < 10 or y > 15:\n",
    "    print('Hey')"
   ]
  },
  {
   "cell_type": "code",
   "execution_count": 23,
   "id": "3e1baf1e",
   "metadata": {},
   "outputs": [
    {
     "name": "stdout",
     "output_type": "stream",
     "text": [
      "'x' is not in the list, so this is True.\n"
     ]
    }
   ],
   "source": [
    "my_list = [1,2,3,4]\n",
    "x = 10\n",
    "if x not in my_list:\n",
    "    print (\"'x' is not in the list, so this is True.\")\n",
    "else:\n",
    "    print (\"'x' is in the list, so it is False.\")"
   ]
  },
  {
   "cell_type": "code",
   "execution_count": 26,
   "id": "84253591",
   "metadata": {},
   "outputs": [
    {
     "name": "stdout",
     "output_type": "stream",
     "text": [
      "\"x\" not equals to 5\n"
     ]
    }
   ],
   "source": [
    "x = 10\n",
    "\n",
    "if x != 5:\n",
    "    print('\"x\" not equals to 5')"
   ]
  },
  {
   "cell_type": "code",
   "execution_count": null,
   "id": "a2726c46",
   "metadata": {},
   "outputs": [],
   "source": []
  }
 ],
 "metadata": {
  "kernelspec": {
   "display_name": "Python 3 (ipykernel)",
   "language": "python",
   "name": "python3"
  },
  "language_info": {
   "codemirror_mode": {
    "name": "ipython",
    "version": 3
   },
   "file_extension": ".py",
   "mimetype": "text/x-python",
   "name": "python",
   "nbconvert_exporter": "python",
   "pygments_lexer": "ipython3",
   "version": "3.9.7"
  }
 },
 "nbformat": 4,
 "nbformat_minor": 5
}
